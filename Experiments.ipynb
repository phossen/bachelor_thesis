{
 "cells": [
  {
   "cell_type": "markdown",
   "metadata": {},
   "source": [
    "# Experiments with WCDS\n",
    "This notebook contains all experiments that are done using WCDS."
   ]
  },
  {
   "cell_type": "code",
   "execution_count": 1,
   "metadata": {},
   "outputs": [],
   "source": [
    "import matplotlib.pyplot as plt\n",
    "from wcds.wcds import WCDS\n",
    "from wcds.clusterers import *\n",
    "from sklearn.preprocessing import minmax_scale, MinMaxScaler, LabelEncoder\n",
    "from sklearn.metrics import *\n",
    "from scipy.io import arff\n",
    "import pandas as pd\n",
    "import numpy as np\n",
    "import random\n",
    "import math\n",
    "import time"
   ]
  },
  {
   "cell_type": "markdown",
   "metadata": {},
   "source": [
    "## Data sets\n",
    "In the following sections `datastream` will be the variable storing the current data stream. It uses a pandas dataframe for that. The last column contains the instance's class for evaluation and should not be passed to the algorithm.\n",
    "\n",
    "By executing one of the following cells, the chosen data set/stream will be loaded."
   ]
  },
  {
   "cell_type": "markdown",
   "metadata": {},
   "source": [
    "Test 2D data sets:"
   ]
  },
  {
   "cell_type": "code",
   "execution_count": null,
   "metadata": {},
   "outputs": [],
   "source": [
    "# Complex8\n",
    "url = \"http://www2.cs.uh.edu/~ml_kdd/restored/Complex&Diamond/Complex8.data\"\n",
    "datastream = pd.read_csv(url, names=['X', 'Y', \"Class\"], header=None)\n",
    "datastream[\"X\"] = minmax_scale(datastream[\"X\"])\n",
    "datastream[\"Y\"] = minmax_scale(datastream[\"Y\"])\n",
    "datastream = datastream.sample(frac=1).reset_index(drop=True)"
   ]
  },
  {
   "cell_type": "code",
   "execution_count": null,
   "metadata": {},
   "outputs": [],
   "source": [
    "# Complex9\n",
    "url = \"http://www2.cs.uh.edu/~ml_kdd/restored/Complex&Diamond/Complex9.txt\"\n",
    "datastream = pd.read_csv(url, names=['X', 'Y', \"Class\"], header=None)\n",
    "datastream[\"X\"] = minmax_scale(datastream[\"X\"])\n",
    "datastream[\"Y\"] = minmax_scale(datastream[\"Y\"])\n",
    "datastream = datastream.sample(frac=1).reset_index(drop=True)"
   ]
  },
  {
   "cell_type": "code",
   "execution_count": null,
   "metadata": {},
   "outputs": [],
   "source": [
    "# D31\n",
    "url = \"http://cs.joensuu.fi/sipu/datasets/D31.txt\"\n",
    "datastream = pd.read_csv(url, names=['X', 'Y', \"Class\"], header=None, sep=\"\\t\")\n",
    "datastream[\"X\"] = minmax_scale(datastream[\"X\"])\n",
    "datastream[\"Y\"] = minmax_scale(datastream[\"Y\"])\n",
    "datastream = datastream.sample(frac=1).reset_index(drop=True)"
   ]
  },
  {
   "cell_type": "code",
   "execution_count": 2,
   "metadata": {},
   "outputs": [],
   "source": [
    "# Jain\n",
    "url = \"http://cs.joensuu.fi/sipu/datasets/jain.txt\"\n",
    "datastream = pd.read_csv(url, names=['X', 'Y', \"Class\"], header=None, sep=\"\\t\")\n",
    "datastream[\"X\"] = minmax_scale(datastream[\"X\"])\n",
    "datastream[\"Y\"] = minmax_scale(datastream[\"Y\"])\n",
    "datastream = datastream.sample(frac=1).reset_index(drop=True)"
   ]
  },
  {
   "cell_type": "code",
   "execution_count": null,
   "metadata": {},
   "outputs": [],
   "source": [
    "# Aggregation\n",
    "url = \"http://cs.joensuu.fi/sipu/datasets/Aggregation.txt\"\n",
    "datastream = pd.read_csv(url, names=['X', 'Y', \"Class\"], header=None, sep=\"\\t\")\n",
    "datastream[\"X\"] = minmax_scale(datastream[\"X\"])\n",
    "datastream[\"Y\"] = minmax_scale(datastream[\"Y\"])\n",
    "datastream = datastream.sample(frac=1).reset_index(drop=True)"
   ]
  },
  {
   "cell_type": "markdown",
   "metadata": {},
   "source": [
    "Data streams:"
   ]
  },
  {
   "cell_type": "code",
   "execution_count": null,
   "metadata": {},
   "outputs": [],
   "source": [
    "# SEA Concepts\n",
    "datastream = pd.read_csv(\"../Datasets/sea.data\", header=None)\n",
    "labels = datastream.iloc[:, 3]\n",
    "datastream = datastream.drop(columns=[3])\n",
    "scaler = MinMaxScaler()\n",
    "datastream = pd.DataFrame(scaler.fit_transform(datastream), columns=datastream.columns)\n",
    "datastream[\"Class\"] = labels"
   ]
  },
  {
   "cell_type": "code",
   "execution_count": null,
   "metadata": {},
   "outputs": [],
   "source": [
    "# Forest Cover Type\n",
    "data = arff.loadarff('../Datasets/covtypeNorm.arff')\n",
    "datastream = pd.DataFrame(data[0])\n",
    "labels = datastream[\"class\"].astype(int)\n",
    "datastream = datastream.select_dtypes(exclude=\"O\")\n",
    "datastream[\"Class\"] = labels"
   ]
  },
  {
   "cell_type": "code",
   "execution_count": null,
   "metadata": {},
   "outputs": [],
   "source": [
    "# 10% of Network Intrusion Detection (KDD Cup 1999)\n",
    "url = \"http://kdd.ics.uci.edu/databases/kddcup99/kddcup.data_10_percent.gz\"\n",
    "header = [\"duration\", \"protocol_type\", \"service\", \"flag\", \"src_bytes\", \"dst_bytes\", \"land\",\n",
    "    \"wrong_fragment\", \"urgent\", \"hot\", \"num_failed_logins\", \"logged_in\", \"num_compromised\",\n",
    "    \"root_shell\", \"su_attempted\", \"num_root\", \"num_file_creations\", \"num_shells\", \"num_access_files\",\n",
    "    \"num_outbound_cmds\", \"is_host_login\", \"is_guest_login\", \"count\", \"srv_count\", \"serror_rate\",\n",
    "    \"srv_serror_rate\", \"rerror_rate\", \"srv_rerror_rate\", \"same_srv_rate\", \"diff_srv_rate\",\n",
    "    \"srv_diff_host_rate\", \"dst_host_count\", \"dst_host_srv_count\", \"dst_host_same_srv_rate\",\n",
    "    \"dst_host_diff_srv_rate\", \"dst_host_same_src_port_rate\", \"dst_host_srv_diff_host_rate\",\n",
    "    \"dst_host_serror_rate\", \"dst_host_srv_serror_rate\", \"dst_host_rerror_rate\",\n",
    "    \"dst_host_srv_rerror_rate\", \"Class\"]\n",
    "datastream = pd.read_csv(url, names=header, header=None)\n",
    "label_encoder = LabelEncoder() \n",
    "classes = label_encoder.fit_transform(datastream['Class']) \n",
    "datastream = datastream.select_dtypes(exclude=[\"object\"])\n",
    "datastream = datastream.drop(columns=[\"land\", \"logged_in\", \"is_host_login\", \"is_guest_login\"])\n",
    "scaler = MinMaxScaler()\n",
    "datastream = pd.DataFrame(scaler.fit_transform(datastream), columns=datastream.columns)\n",
    "datastream[\"Class\"] = classes"
   ]
  },
  {
   "cell_type": "code",
   "execution_count": null,
   "metadata": {},
   "outputs": [],
   "source": [
    "# Gas mixture dataset CO2\n",
    "# Gas mixture dataset ETHYLEN\n",
    "# SAM KNN DATA SETS"
   ]
  },
  {
   "cell_type": "markdown",
   "metadata": {},
   "source": [
    "Take a look at the first rows of the data set and its description."
   ]
  },
  {
   "cell_type": "code",
   "execution_count": 3,
   "metadata": {},
   "outputs": [
    {
     "data": {
      "text/html": [
       "<div>\n",
       "<style scoped>\n",
       "    .dataframe tbody tr th:only-of-type {\n",
       "        vertical-align: middle;\n",
       "    }\n",
       "\n",
       "    .dataframe tbody tr th {\n",
       "        vertical-align: top;\n",
       "    }\n",
       "\n",
       "    .dataframe thead th {\n",
       "        text-align: right;\n",
       "    }\n",
       "</style>\n",
       "<table border=\"1\" class=\"dataframe\">\n",
       "  <thead>\n",
       "    <tr style=\"text-align: right;\">\n",
       "      <th></th>\n",
       "      <th>X</th>\n",
       "      <th>Y</th>\n",
       "      <th>Class</th>\n",
       "    </tr>\n",
       "  </thead>\n",
       "  <tbody>\n",
       "    <tr>\n",
       "      <th>0</th>\n",
       "      <td>0.977805</td>\n",
       "      <td>0.365462</td>\n",
       "      <td>1</td>\n",
       "    </tr>\n",
       "    <tr>\n",
       "      <th>1</th>\n",
       "      <td>0.721332</td>\n",
       "      <td>0.144578</td>\n",
       "      <td>1</td>\n",
       "    </tr>\n",
       "    <tr>\n",
       "      <th>2</th>\n",
       "      <td>0.918619</td>\n",
       "      <td>0.401606</td>\n",
       "      <td>1</td>\n",
       "    </tr>\n",
       "    <tr>\n",
       "      <th>3</th>\n",
       "      <td>0.758323</td>\n",
       "      <td>0.132530</td>\n",
       "      <td>1</td>\n",
       "    </tr>\n",
       "    <tr>\n",
       "      <th>4</th>\n",
       "      <td>0.911221</td>\n",
       "      <td>0.315261</td>\n",
       "      <td>1</td>\n",
       "    </tr>\n",
       "  </tbody>\n",
       "</table>\n",
       "</div>"
      ],
      "text/plain": [
       "          X         Y  Class\n",
       "0  0.977805  0.365462      1\n",
       "1  0.721332  0.144578      1\n",
       "2  0.918619  0.401606      1\n",
       "3  0.758323  0.132530      1\n",
       "4  0.911221  0.315261      1"
      ]
     },
     "execution_count": 3,
     "metadata": {},
     "output_type": "execute_result"
    }
   ],
   "source": [
    "datastream.head()"
   ]
  },
  {
   "cell_type": "code",
   "execution_count": 4,
   "metadata": {},
   "outputs": [
    {
     "data": {
      "text/html": [
       "<div>\n",
       "<style scoped>\n",
       "    .dataframe tbody tr th:only-of-type {\n",
       "        vertical-align: middle;\n",
       "    }\n",
       "\n",
       "    .dataframe tbody tr th {\n",
       "        vertical-align: top;\n",
       "    }\n",
       "\n",
       "    .dataframe thead th {\n",
       "        text-align: right;\n",
       "    }\n",
       "</style>\n",
       "<table border=\"1\" class=\"dataframe\">\n",
       "  <thead>\n",
       "    <tr style=\"text-align: right;\">\n",
       "      <th></th>\n",
       "      <th>X</th>\n",
       "      <th>Y</th>\n",
       "      <th>Class</th>\n",
       "    </tr>\n",
       "  </thead>\n",
       "  <tbody>\n",
       "    <tr>\n",
       "      <th>count</th>\n",
       "      <td>373.000000</td>\n",
       "      <td>373.000000</td>\n",
       "      <td>373.000000</td>\n",
       "    </tr>\n",
       "    <tr>\n",
       "      <th>mean</th>\n",
       "      <td>0.581522</td>\n",
       "      <td>0.369316</td>\n",
       "      <td>1.260054</td>\n",
       "    </tr>\n",
       "    <tr>\n",
       "      <th>std</th>\n",
       "      <td>0.242993</td>\n",
       "      <td>0.265276</td>\n",
       "      <td>0.439253</td>\n",
       "    </tr>\n",
       "    <tr>\n",
       "      <th>min</th>\n",
       "      <td>0.000000</td>\n",
       "      <td>0.000000</td>\n",
       "      <td>1.000000</td>\n",
       "    </tr>\n",
       "    <tr>\n",
       "      <th>25%</th>\n",
       "      <td>0.409371</td>\n",
       "      <td>0.134538</td>\n",
       "      <td>1.000000</td>\n",
       "    </tr>\n",
       "    <tr>\n",
       "      <th>50%</th>\n",
       "      <td>0.552404</td>\n",
       "      <td>0.333333</td>\n",
       "      <td>1.000000</td>\n",
       "    </tr>\n",
       "    <tr>\n",
       "      <th>75%</th>\n",
       "      <td>0.803946</td>\n",
       "      <td>0.544177</td>\n",
       "      <td>2.000000</td>\n",
       "    </tr>\n",
       "    <tr>\n",
       "      <th>max</th>\n",
       "      <td>1.000000</td>\n",
       "      <td>1.000000</td>\n",
       "      <td>2.000000</td>\n",
       "    </tr>\n",
       "  </tbody>\n",
       "</table>\n",
       "</div>"
      ],
      "text/plain": [
       "                X           Y       Class\n",
       "count  373.000000  373.000000  373.000000\n",
       "mean     0.581522    0.369316    1.260054\n",
       "std      0.242993    0.265276    0.439253\n",
       "min      0.000000    0.000000    1.000000\n",
       "25%      0.409371    0.134538    1.000000\n",
       "50%      0.552404    0.333333    1.000000\n",
       "75%      0.803946    0.544177    2.000000\n",
       "max      1.000000    1.000000    2.000000"
      ]
     },
     "execution_count": 4,
     "metadata": {},
     "output_type": "execute_result"
    }
   ],
   "source": [
    "datastream.describe()"
   ]
  },
  {
   "cell_type": "markdown",
   "metadata": {},
   "source": [
    "## Online clustering\n",
    "The next step, is to perform the online step of stream clustering with WCDS on the previous selected `datastream`."
   ]
  },
  {
   "cell_type": "code",
   "execution_count": 5,
   "metadata": {
    "scrolled": true
   },
   "outputs": [
    {
     "name": "stdout",
     "output_type": "stream",
     "text": [
      "Number of discriminators: 25 Cluster Measures: (1.0, 0.19999290417456023, 0.33332347796194584)\n",
      "Number of discriminators: 31 Cluster Measures: (0.9999999999999997, 0.19140168172206962, 0.32130503869260074)\n",
      "Number of discriminators: 34 Cluster Measures: (1.0, 0.1807588710758345, 0.30617406399180924)\n",
      "Number of discriminators: 36 Cluster Measures: (1.0000000000000007, 0.17186021329423218, 0.29331179836051197)\n",
      "Number of discriminators: 38 Cluster Measures: (0.9999999999999993, 0.17469633058071873, 0.2974323253301667)\n",
      "Number of discriminators: 39 Cluster Measures: (1.0000000000000002, 0.17082879863884554, 0.2918083307097394)\n",
      "Number of discriminators: 39 Cluster Measures: (0.9999999999999998, 0.1814982403048386, 0.30723404252893377)\n",
      "Wall time: 32.2 s\n"
     ]
    }
   ],
   "source": [
    "%%time\n",
    "\n",
    "# Parameters\n",
    "OMEGA = math.inf\n",
    "DELTA = 200\n",
    "GAMMA = 200\n",
    "BETA = 60\n",
    "EPSILON = 0.1\n",
    "DIM = len(datastream.iloc[0])-1\n",
    "µ = 0\n",
    "\n",
    "# Clusterer instance\n",
    "c_online = WCDS(\n",
    "    omega=OMEGA,\n",
    "    delta=DELTA,\n",
    "    gamma=GAMMA,\n",
    "    epsilon=EPSILON,\n",
    "    dimension=DIM,\n",
    "    beta=BETA,\n",
    "    µ=µ)\n",
    "\n",
    "assigned_discriminators = []\n",
    "number_discriminators = []\n",
    "time_ = 0\n",
    "\n",
    "for i in range(len(datastream)):\n",
    "    k = c_online.record(list(datastream.iloc[i])[:-1], time_)\n",
    "    number_discriminators.append(len(c_online.discriminators))\n",
    "    assigned_discriminators.append(k)\n",
    "    time_ += 1\n",
    "    if i % 50 == 0 and i > 0:\n",
    "        print(\"Number of discriminators: {} Cluster Measures: {}\".format(len(c_online), homogeneity_completeness_v_measure(datastream[\"Class\"][max(i-200, 0):i], assigned_discriminators[max(i-200, 0):i])))"
   ]
  },
  {
   "cell_type": "code",
   "execution_count": 6,
   "metadata": {},
   "outputs": [],
   "source": [
    "# Optional save\n",
    "c_online.save()"
   ]
  },
  {
   "cell_type": "markdown",
   "metadata": {},
   "source": [
    "## Offline clustering\n",
    "Now we perform offline clustering on the current configuration of WCDS."
   ]
  },
  {
   "cell_type": "code",
   "execution_count": 7,
   "metadata": {},
   "outputs": [],
   "source": [
    "N_CLUSTERS = 2\n",
    "THRESHOLD = None"
   ]
  },
  {
   "cell_type": "code",
   "execution_count": 8,
   "metadata": {},
   "outputs": [
    {
     "name": "stdout",
     "output_type": "stream",
     "text": [
      "Wall time: 26.5 s\n"
     ]
    }
   ],
   "source": [
    "%%time\n",
    "# MergeClustering\n",
    "\n",
    "c_offline = MergeClustering(n_clusters=N_CLUSTERS, distance_threshold=THRESHOLD)\n",
    "actual_clusters1 = c_offline.fit(c_online.discriminators)"
   ]
  },
  {
   "cell_type": "code",
   "execution_count": 9,
   "metadata": {},
   "outputs": [
    {
     "name": "stdout",
     "output_type": "stream",
     "text": [
      "Wall time: 18.1 s\n"
     ]
    }
   ],
   "source": [
    "%%time\n",
    "# MinDistanceClustering\n",
    "\n",
    "c_offline = MinDistanceClustering(n_clusters=N_CLUSTERS, distance_threshold=THRESHOLD)\n",
    "actual_clusters2 = c_offline.fit(c_online.discriminators)"
   ]
  },
  {
   "cell_type": "code",
   "execution_count": 10,
   "metadata": {},
   "outputs": [
    {
     "name": "stdout",
     "output_type": "stream",
     "text": [
      "Wall time: 2.01 s\n"
     ]
    }
   ],
   "source": [
    "%%time\n",
    "# CentroidClustering\n",
    "\n",
    "c_offline = CentroidClustering(n_clusters=N_CLUSTERS, distance_threshold=THRESHOLD)\n",
    "centroids = [c_online.centroid(d) for d in c_online.discriminators.values()]\n",
    "actual_clusters3 = c_offline.fit(c_online.discriminators, centroids)"
   ]
  },
  {
   "cell_type": "markdown",
   "metadata": {},
   "source": [
    "## Plot results and evaluate clustering"
   ]
  },
  {
   "cell_type": "code",
   "execution_count": 11,
   "metadata": {},
   "outputs": [],
   "source": [
    "# Initialize color list\n",
    "number_of_colors = len(c_online.discriminators)\n",
    "colors = [\"#\"+''.join([random.choice('0123456789ABCDEF') for j in range(6)]) for i in range(number_of_colors)]\n",
    "color_dict = {key: value for (key, value) in enumerate(colors)}"
   ]
  },
  {
   "cell_type": "code",
   "execution_count": 12,
   "metadata": {},
   "outputs": [],
   "source": [
    "def return_correct(index, clustering):\n",
    "    # Returns correct offline cluster for given discriminator\n",
    "    for i in range(len(clustering)):\n",
    "        if index in clustering[i]:\n",
    "            return i"
   ]
  },
  {
   "cell_type": "code",
   "execution_count": 13,
   "metadata": {},
   "outputs": [],
   "source": [
    "# DRASiW\n",
    "drasiw = []\n",
    "for d in c_online.discriminators.values():\n",
    "    drasiw.extend(c_online.drasiw(d))"
   ]
  },
  {
   "cell_type": "code",
   "execution_count": 14,
   "metadata": {},
   "outputs": [
    {
     "data": {
      "image/png": "[encoded data removed]",
      "text/plain": [
       "<Figure size 432x432 with 1 Axes>"
      ]
     },
     "metadata": {
      "needs_background": "light"
     },
     "output_type": "display_data"
    }
   ],
   "source": [
    "# Plot centroids\n",
    "%matplotlib inline\n",
    "\n",
    "c_id=0\n",
    "\n",
    "plt.figure(5, figsize=(6,6))\n",
    "for i in range(len(assigned_discriminators)):\n",
    "    k = assigned_discriminators[i]\n",
    "    if k == c_id:\n",
    "        plt.scatter(datastream[\"X\"][i], datastream[\"Y\"][i], marker=\"o\", color=color_dict[int(k)])\n",
    "plt.scatter([d[0] for d in drasiw], [d[1] for d in drasiw], marker=\"o\", s=100, color=\"red\")\n",
    "plt.scatter([centroid[0] for centroid in centroids], [centroid[1] for centroid in centroids], marker=\"x\", s=100, color=\"cyan\")\n",
    "plt.axis('scaled', xlim=[0, 1, 0, 1])\n",
    "plt.suptitle('Centroids', fontsize=18)\n",
    "plt.show()"
   ]
  },
  {
   "cell_type": "code",
   "execution_count": 15,
   "metadata": {},
   "outputs": [],
   "source": [
    "# Plot discriminator epsilon areas\n",
    "def plot_epsilon_areas(discr_ids):\n",
    "    # Plotting\n",
    "    step = 0.01\n",
    "    points = []\n",
    "\n",
    "    for i in np.arange(0, 1, step):\n",
    "        for j in np.arange(0, 1, step):\n",
    "            discr = max([(id_, c_online.discriminators[id_].matching(\n",
    "                c_online.addressing((i, j)))) for id_ in discr_ids], key=lambda x: x[1])\n",
    "            c = color_dict[discr[0]]\n",
    "            if discr[1] > c_online.epsilon:\n",
    "                points.append(((i, j), c))\n",
    "    plt.scatter([point[0][0] for point in points],\n",
    "                          [point[0][1] for point in points],\n",
    "                          marker=\"s\",\n",
    "                          s=1.5,\n",
    "                          c=[point[1] for point in points])\n",
    "    plt.axis('scaled', xlim=[0, 1, 0, 1])\n",
    "    plt.show()"
   ]
  },
  {
   "cell_type": "code",
   "execution_count": 16,
   "metadata": {},
   "outputs": [
    {
     "ename": "KeyboardInterrupt",
     "evalue": "",
     "output_type": "error",
     "traceback": [
      "\u001b[1;31m---------------------------------------------------------------------------\u001b[0m",
      "\u001b[1;31mKeyboardInterrupt\u001b[0m                         Traceback (most recent call last)",
      "\u001b[1;32m<ipython-input-16-537cec22dd77>\u001b[0m in \u001b[0;36m<module>\u001b[1;34m\u001b[0m\n\u001b[1;32m----> 1\u001b[1;33m \u001b[0mplot_epsilon_areas\u001b[0m\u001b[1;33m(\u001b[0m\u001b[1;33m[\u001b[0m\u001b[1;36m0\u001b[0m\u001b[1;33m,\u001b[0m\u001b[1;36m1\u001b[0m\u001b[1;33m,\u001b[0m\u001b[1;36m2\u001b[0m\u001b[1;33m]\u001b[0m\u001b[1;33m)\u001b[0m\u001b[1;33m\u001b[0m\u001b[1;33m\u001b[0m\u001b[0m\n\u001b[0m",
      "\u001b[1;32m<ipython-input-15-72b8a6af2714>\u001b[0m in \u001b[0;36mplot_epsilon_areas\u001b[1;34m(discr_ids)\u001b[0m\n\u001b[0;32m      8\u001b[0m         \u001b[1;32mfor\u001b[0m \u001b[0mj\u001b[0m \u001b[1;32min\u001b[0m \u001b[0mnp\u001b[0m\u001b[1;33m.\u001b[0m\u001b[0marange\u001b[0m\u001b[1;33m(\u001b[0m\u001b[1;36m0\u001b[0m\u001b[1;33m,\u001b[0m \u001b[1;36m1\u001b[0m\u001b[1;33m,\u001b[0m \u001b[0mstep\u001b[0m\u001b[1;33m)\u001b[0m\u001b[1;33m:\u001b[0m\u001b[1;33m\u001b[0m\u001b[1;33m\u001b[0m\u001b[0m\n\u001b[0;32m      9\u001b[0m             discr = max([(id_, c_online.discriminators[id_].matching(\n\u001b[1;32m---> 10\u001b[1;33m                 c_online.addressing((i, j)))) for id_ in discr_ids], key=lambda x: x[1])\n\u001b[0m\u001b[0;32m     11\u001b[0m             \u001b[0mc\u001b[0m \u001b[1;33m=\u001b[0m \u001b[0mcolor_dict\u001b[0m\u001b[1;33m[\u001b[0m\u001b[0mdiscr\u001b[0m\u001b[1;33m[\u001b[0m\u001b[1;36m0\u001b[0m\u001b[1;33m]\u001b[0m\u001b[1;33m]\u001b[0m\u001b[1;33m\u001b[0m\u001b[1;33m\u001b[0m\u001b[0m\n\u001b[0;32m     12\u001b[0m             \u001b[1;32mif\u001b[0m \u001b[0mdiscr\u001b[0m\u001b[1;33m[\u001b[0m\u001b[1;36m1\u001b[0m\u001b[1;33m]\u001b[0m \u001b[1;33m>\u001b[0m \u001b[0mc_online\u001b[0m\u001b[1;33m.\u001b[0m\u001b[0mepsilon\u001b[0m\u001b[1;33m:\u001b[0m\u001b[1;33m\u001b[0m\u001b[1;33m\u001b[0m\u001b[0m\n",
      "\u001b[1;32m<ipython-input-15-72b8a6af2714>\u001b[0m in \u001b[0;36m<listcomp>\u001b[1;34m(.0)\u001b[0m\n\u001b[0;32m      8\u001b[0m         \u001b[1;32mfor\u001b[0m \u001b[0mj\u001b[0m \u001b[1;32min\u001b[0m \u001b[0mnp\u001b[0m\u001b[1;33m.\u001b[0m\u001b[0marange\u001b[0m\u001b[1;33m(\u001b[0m\u001b[1;36m0\u001b[0m\u001b[1;33m,\u001b[0m \u001b[1;36m1\u001b[0m\u001b[1;33m,\u001b[0m \u001b[0mstep\u001b[0m\u001b[1;33m)\u001b[0m\u001b[1;33m:\u001b[0m\u001b[1;33m\u001b[0m\u001b[1;33m\u001b[0m\u001b[0m\n\u001b[0;32m      9\u001b[0m             discr = max([(id_, c_online.discriminators[id_].matching(\n\u001b[1;32m---> 10\u001b[1;33m                 c_online.addressing((i, j)))) for id_ in discr_ids], key=lambda x: x[1])\n\u001b[0m\u001b[0;32m     11\u001b[0m             \u001b[0mc\u001b[0m \u001b[1;33m=\u001b[0m \u001b[0mcolor_dict\u001b[0m\u001b[1;33m[\u001b[0m\u001b[0mdiscr\u001b[0m\u001b[1;33m[\u001b[0m\u001b[1;36m0\u001b[0m\u001b[1;33m]\u001b[0m\u001b[1;33m]\u001b[0m\u001b[1;33m\u001b[0m\u001b[1;33m\u001b[0m\u001b[0m\n\u001b[0;32m     12\u001b[0m             \u001b[1;32mif\u001b[0m \u001b[0mdiscr\u001b[0m\u001b[1;33m[\u001b[0m\u001b[1;36m1\u001b[0m\u001b[1;33m]\u001b[0m \u001b[1;33m>\u001b[0m \u001b[0mc_online\u001b[0m\u001b[1;33m.\u001b[0m\u001b[0mepsilon\u001b[0m\u001b[1;33m:\u001b[0m\u001b[1;33m\u001b[0m\u001b[1;33m\u001b[0m\u001b[0m\n",
      "\u001b[1;32m~\\OneDrive\\Studium\\Bachelor\\Semester 6\\Bachelorarbeit\\bachelor_thesis\\wcds\\wcds.py\u001b[0m in \u001b[0;36maddressing\u001b[1;34m(self, observation)\u001b[0m\n\u001b[0;32m    295\u001b[0m             \u001b[0maddressing\u001b[0m \u001b[1;33m=\u001b[0m \u001b[0mnp\u001b[0m\u001b[1;33m.\u001b[0m\u001b[0mempty\u001b[0m\u001b[1;33m(\u001b[0m\u001b[0mlen\u001b[0m\u001b[1;33m(\u001b[0m\u001b[0mmapping\u001b[0m\u001b[1;33m)\u001b[0m\u001b[1;33m)\u001b[0m\u001b[1;33m\u001b[0m\u001b[1;33m\u001b[0m\u001b[0m\n\u001b[0;32m    296\u001b[0m             \u001b[1;32mfor\u001b[0m \u001b[0mi\u001b[0m\u001b[1;33m,\u001b[0m \u001b[0mm\u001b[0m \u001b[1;32min\u001b[0m \u001b[0menumerate\u001b[0m\u001b[1;33m(\u001b[0m\u001b[0mmapping\u001b[0m\u001b[1;33m)\u001b[0m\u001b[1;33m:\u001b[0m\u001b[1;33m\u001b[0m\u001b[1;33m\u001b[0m\u001b[0m\n\u001b[1;32m--> 297\u001b[1;33m                 \u001b[0maddressing\u001b[0m\u001b[1;33m[\u001b[0m\u001b[0mm\u001b[0m\u001b[1;33m]\u001b[0m \u001b[1;33m=\u001b[0m \u001b[0mbinarization\u001b[0m\u001b[1;33m[\u001b[0m\u001b[0mi\u001b[0m \u001b[1;33m%\u001b[0m \u001b[0mlen\u001b[0m\u001b[1;33m(\u001b[0m\u001b[0mbinarization\u001b[0m\u001b[1;33m)\u001b[0m\u001b[1;33m]\u001b[0m\u001b[1;33m\u001b[0m\u001b[1;33m\u001b[0m\u001b[0m\n\u001b[0m\u001b[0;32m    298\u001b[0m             \u001b[0maddressing\u001b[0m \u001b[1;33m=\u001b[0m \u001b[0mnp\u001b[0m\u001b[1;33m.\u001b[0m\u001b[0mreshape\u001b[0m\u001b[1;33m(\u001b[0m\u001b[0maddressing\u001b[0m\u001b[1;33m,\u001b[0m \u001b[1;33m(\u001b[0m\u001b[0mself\u001b[0m\u001b[1;33m.\u001b[0m\u001b[0mdelta\u001b[0m\u001b[1;33m,\u001b[0m \u001b[0mself\u001b[0m\u001b[1;33m.\u001b[0m\u001b[0mbeta\u001b[0m\u001b[1;33m)\u001b[0m\u001b[1;33m)\u001b[0m\u001b[1;33m\u001b[0m\u001b[1;33m\u001b[0m\u001b[0m\n\u001b[0;32m    299\u001b[0m             \u001b[0maddressing\u001b[0m \u001b[1;33m=\u001b[0m \u001b[1;33m[\u001b[0m\u001b[0mtuple\u001b[0m\u001b[1;33m(\u001b[0m\u001b[0mb\u001b[0m\u001b[1;33m)\u001b[0m \u001b[1;32mfor\u001b[0m \u001b[0mb\u001b[0m \u001b[1;32min\u001b[0m \u001b[0maddressing\u001b[0m\u001b[1;33m]\u001b[0m\u001b[1;33m\u001b[0m\u001b[1;33m\u001b[0m\u001b[0m\n",
      "\u001b[1;31mKeyboardInterrupt\u001b[0m: "
     ]
    }
   ],
   "source": [
    "plot_epsilon_areas([0,1,2])"
   ]
  },
  {
   "cell_type": "code",
   "execution_count": 17,
   "metadata": {
    "scrolled": false
   },
   "outputs": [
    {
     "name": "stdout",
     "output_type": "stream",
     "text": [
      "Found 39 Microclusters and formed 2, 14, 2 Clusters.\n"
     ]
    },
    {
     "data": {
      "image/png": "[encoded data removed]",
      "text/plain": [
       "<Figure size 432x432 with 1 Axes>"
      ]
     },
     "metadata": {
      "needs_background": "light"
     },
     "output_type": "display_data"
    },
    {
     "data": {
      "image/png": "[encoded data removed]",
      "text/plain": [
       "<Figure size 432x432 with 1 Axes>"
      ]
     },
     "metadata": {
      "needs_background": "light"
     },
     "output_type": "display_data"
    },
    {
     "data": {
      "image/png": "[encoded data removed]",
      "text/plain": [
       "<Figure size 432x432 with 1 Axes>"
      ]
     },
     "metadata": {
      "needs_background": "light"
     },
     "output_type": "display_data"
    },
    {
     "data": {
      "image/png": "[encoded data removed]",
      "text/plain": [
       "<Figure size 432x432 with 1 Axes>"
      ]
     },
     "metadata": {
      "needs_background": "light"
     },
     "output_type": "display_data"
    }
   ],
   "source": [
    "# Plot results of online vs offline clustering\n",
    "%matplotlib inline\n",
    "\n",
    "# Online\n",
    "plt.figure(1, figsize=(6,6))\n",
    "for i in range(len(assigned_discriminators)):\n",
    "    k = assigned_discriminators[i]\n",
    "    plt.scatter(datastream[\"X\"][i], datastream[\"Y\"][i], marker=\"o\", color=color_dict[int(k)])\n",
    "    plt.axis('scaled', xlim=[0, 1, 0, 1])\n",
    "plt.suptitle('Online Clustering', fontsize=18)\n",
    "    \n",
    "# Offline1\n",
    "plt.figure(2, figsize=(6,6))        \n",
    "for i in range(len(assigned_discriminators)):\n",
    "    k = assigned_discriminators[i]\n",
    "    correct = return_correct(k, actual_clusters1)\n",
    "    plt.scatter(datastream[\"X\"][i], datastream[\"Y\"][i], marker=\"o\", color=color_dict[correct])\n",
    "plt.axis('scaled', xlim=[0, 1, 0, 1])\n",
    "plt.suptitle('1. Offline Clustering', fontsize=18)\n",
    "\n",
    "# Offline2\n",
    "plt.figure(3, figsize=(6,6))        \n",
    "for i in range(len(assigned_discriminators)):\n",
    "    k = assigned_discriminators[i]\n",
    "    correct = return_correct(k, actual_clusters2)\n",
    "    plt.scatter(datastream[\"X\"][i], datastream[\"Y\"][i], marker=\"o\", color=color_dict[correct])\n",
    "plt.axis('scaled', xlim=[0, 1, 0, 1])\n",
    "plt.suptitle('2. Offline Clustering', fontsize=18)\n",
    "\n",
    "\n",
    "# Offline3\n",
    "plt.figure(4, figsize=(6,6))        \n",
    "for i in range(len(assigned_discriminators)):\n",
    "    k = assigned_discriminators[i]\n",
    "    correct = return_correct(k, actual_clusters3)\n",
    "    plt.scatter(datastream[\"X\"][i], datastream[\"Y\"][i], marker=\"o\", color=color_dict[correct])\n",
    "plt.axis('scaled', xlim=[0, 1, 0, 1])\n",
    "plt.suptitle('3. Offline Clustering', fontsize=18)\n",
    "    \n",
    "print(\"Found {} Microclusters and formed {}, {}, {} Clusters.\".format(len(c_online.discriminators), len(actual_clusters1), len(actual_clusters2), len(actual_clusters3)))\n",
    "plt.show()"
   ]
  },
  {
   "cell_type": "code",
   "execution_count": 18,
   "metadata": {
    "scrolled": true
   },
   "outputs": [
    {
     "name": "stdout",
     "output_type": "stream",
     "text": [
      "Homogeneity, Completeness, V-Measure\n",
      "Online:  (0.9999999999999997, 0.1794954414759266, 0.3043597035887147)\n",
      "Offline1:  (1.0, 1.0, 1.0)\n",
      "Offline2:  (0.999999999999999, 0.27627467134146444, 0.432939205870282)\n",
      "Offline3:  (0.44889439751514987, 0.37278525245675814, 0.40731497076708817)\n"
     ]
    }
   ],
   "source": [
    "# Calculate Homogeneity, Completeness, V-Measure of clusterings\n",
    "print(\"Homogeneity, Completeness, V-Measure\")\n",
    "\n",
    "# Online\n",
    "print(\"Online: \", homogeneity_completeness_v_measure(datastream[\"Class\"], assigned_discriminators))\n",
    "\n",
    "# Offline\n",
    "print(\"Offline1: \", homogeneity_completeness_v_measure(datastream[\"Class\"], [return_correct(assigned_discriminators[i], actual_clusters1) for i in range(len(assigned_discriminators))]))\n",
    "print(\"Offline2: \", homogeneity_completeness_v_measure(datastream[\"Class\"], [return_correct(assigned_discriminators[i], actual_clusters2) for i in range(len(assigned_discriminators))]))\n",
    "print(\"Offline3: \", homogeneity_completeness_v_measure(datastream[\"Class\"], [return_correct(assigned_discriminators[i], actual_clusters3) for i in range(len(assigned_discriminators))]))"
   ]
  },
  {
   "cell_type": "markdown",
   "metadata": {},
   "source": [
    "The following cell visualizes the behavior of the online clustering over time. "
   ]
  },
  {
   "cell_type": "code",
   "execution_count": null,
   "metadata": {},
   "outputs": [],
   "source": [
    "# Live online clustering plot\n",
    "%matplotlib notebook\n",
    "fig = plt.figure(figsize=(10,10))\n",
    "ax = fig.add_subplot(111)\n",
    "plt.ion()\n",
    "ax.axis('scaled', xlim=[0, 1, 0, 1])\n",
    "fig.show()\n",
    "fig.canvas.draw()\n",
    "\n",
    "for i in range(len(assigned_discriminators)):\n",
    "    k = assigned_discriminators[i]\n",
    "    ax.scatter(datastream[\"X\"][i], datastream[\"Y\"][i], marker=\"o\", color=color_dict[int(k)])\n",
    "    fig.canvas.draw()"
   ]
  },
  {
   "cell_type": "markdown",
   "metadata": {},
   "source": [
    "## Data stream clustering"
   ]
  },
  {
   "cell_type": "code",
   "execution_count": null,
   "metadata": {},
   "outputs": [],
   "source": [
    "# Plot class for every instance\n",
    "%matplotlib notebook\n",
    "plt.scatter(list(range(len(datastream[\"Class\"])-100)), [np.mean(datastream[\"Class\"][i:i+100]) for i in range(len(datastream[\"Class\"])-100)])\n",
    "plt.show()"
   ]
  },
  {
   "cell_type": "markdown",
   "metadata": {},
   "source": [
    "## Results"
   ]
  },
  {
   "cell_type": "markdown",
   "metadata": {},
   "source": [
    "| Data set | #Instances | Dimensions | Homogenity | Completeness | V-Measure | #Microclusters | Omega | Delta | Gamma | Beta | Epsilon | Mu | Runtime Online |\n",
    "| --- | --- | --- | --- | --- | --- | --- | --- | --- | --- | --- | --- | --- | --- |\n",
    "| Complex8 | 2551 | 2 | 0.9053588976743742 | 0.9335710366851351 | 0.9192485574153881 | 91 | Inf | 200 | 200 | 70 | 0.1 | 0 | 24min 46s |\n",
    "| Complex9 | 3031 | 2 | 0.9050691859653084 | 0.8300021530934564 | 0.8659117998655447 | 98 | Inf | 200 | 200 | 80 | 0.1 | 0 | 21min 22s |\n",
    "| D31 | 3100 | 2 | 0.9055106871046765 | 0.9517232533653724 | 0.9280420288574567 | 44 | Inf | 200 | 200 | 30 | 0.3 | 0 | 5min 24s |\n",
    "| Jain | 373 | 2 | 1.0 | 1.0 | 1.0 | 33 | Inf | 200 | 200 | 60 | 0.1 | 0 | 35.7 s |\n",
    "| Aggregation | 788 | 2 | 0.9888391642302382 | 0.9876953626611313 | 0.9882669324921871 | 38 | Inf | 200 | 200 | 50 | 0.1 | 0 | 1min 43s |"
   ]
  },
  {
   "cell_type": "markdown",
   "metadata": {},
   "source": [
    "Use Entropy, Purity/Homogenity and number of clusters for evaluation. Try different parameters until bes found and use them with different windows (3). Repeat each experiment 10 times."
   ]
  },
  {
   "cell_type": "markdown",
   "metadata": {},
   "source": [
    "Gamma: Resolution of binary encoding; unterteilt jede dimension in gamma subräume/abschnitte\n",
    "Je höher, desto kleiner die epsilon area.\n",
    "\n",
    "Delta: Bestimmt anzahl der Neuronen; Gibt an wie viele verschiedene Epsilonzonen es gibt (ohne 0%)\n",
    "Je höher, desto größer die epsilon area.\n",
    "\n",
    "Area gelichbeliben bei gelichem gamm delta verhältnis?!"
   ]
  }
 ],
 "metadata": {
  "kernelspec": {
   "display_name": "Python 3",
   "language": "python",
   "name": "python3"
  },
  "language_info": {
   "codemirror_mode": {
    "name": "ipython",
    "version": 3
   },
   "file_extension": ".py",
   "mimetype": "text/x-python",
   "name": "python",
   "nbconvert_exporter": "python",
   "pygments_lexer": "ipython3",
   "version": "3.7.3"
  }
 },
 "nbformat": 4,
 "nbformat_minor": 2
}
