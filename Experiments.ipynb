{
 "cells": [
  {
   "cell_type": "markdown",
   "metadata": {},
   "source": [
    "# Experiments with WCDS"
   ]
  },
  {
   "cell_type": "code",
   "execution_count": 1,
   "metadata": {},
   "outputs": [],
   "source": [
    "# Imports\n",
    "\n",
    "from wisard.wisard import WCDS\n",
    "import time\n",
    "from sklearn.datasets import *\n",
    "import numpy as np\n",
    "import pandas as pd"
   ]
  },
  {
   "cell_type": "code",
   "execution_count": 2,
   "metadata": {},
   "outputs": [],
   "source": [
    "# Datastream\n",
    "\n",
    "data = []\n",
    "for i in range(1000):\n",
    "    data.append([0])\n",
    "for i in range(1000):\n",
    "    data.append([1])\n",
    "time_ = range(len(data))\n",
    "datastream =list(zip(data, time_))"
   ]
  },
  {
   "cell_type": "code",
   "execution_count": 3,
   "metadata": {},
   "outputs": [
    {
     "name": "stdout",
     "output_type": "stream",
     "text": [
      "WARNING! Adjusted gamma to the clusterers needs:  4\n",
      "Time elapsed: 0.14s\n"
     ]
    }
   ],
   "source": [
    "# Stream clustering (online clustering only)\n",
    "\n",
    "start_time = time.time()\n",
    "\n",
    "OMEGA = 20\n",
    "DELTA = 5\n",
    "GAMMA = 5\n",
    "EPSILON = 0.5\n",
    "DELTA = 4\n",
    "µ = 0\n",
    "\n",
    "clusterer = WCDS(\n",
    "    omega=OMEGA,\n",
    "    delta=DELTA,\n",
    "    gamma=GAMMA,\n",
    "    epsilon=EPSILON,\n",
    "    dimension=len(datastream[0][0]),\n",
    "    µ=µ)\n",
    "\n",
    "for i in datastream:\n",
    "    obs, time_ = i\n",
    "    clusterer.record(obs, time_)\n",
    "\n",
    "end_time = time.time()\n",
    "print(\"Time elapsed: {0:.2f}s\".format(end_time - start_time))"
   ]
  },
  {
   "cell_type": "code",
   "execution_count": 4,
   "metadata": {},
   "outputs": [],
   "source": [
    "# Stream clustering (with offline clustering)\n",
    "# TODO: Implement"
   ]
  },
  {
   "cell_type": "code",
   "execution_count": null,
   "metadata": {},
   "outputs": [],
   "source": []
  }
 ],
 "metadata": {
  "kernelspec": {
   "display_name": "Python 3",
   "language": "python",
   "name": "python3"
  },
  "language_info": {
   "codemirror_mode": {
    "name": "ipython",
    "version": 3
   },
   "file_extension": ".py",
   "mimetype": "text/x-python",
   "name": "python",
   "nbconvert_exporter": "python",
   "pygments_lexer": "ipython3",
   "version": "3.7.3"
  }
 },
 "nbformat": 4,
 "nbformat_minor": 2
}
