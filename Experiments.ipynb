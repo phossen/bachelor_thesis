{
 "cells": [
  {
   "cell_type": "markdown",
   "metadata": {},
   "source": [
    "# Experiments with WCDS\n",
    "This notebook contains all experiments that are done using WCDS."
   ]
  },
  {
   "cell_type": "code",
   "execution_count": null,
   "metadata": {},
   "outputs": [],
   "source": [
    "%matplotlib notebook\n",
    "import matplotlib.pyplot as plt\n",
    "from wcds.wcds import WCDS\n",
    "from wcds.clusterers import AgglomerativeClustering\n",
    "import time\n",
    "from sklearn.datasets import *\n",
    "from sklearn.preprocessing import MinMaxScaler\n",
    "import pandas as pd\n",
    "import numpy as np\n",
    "import random\n",
    "import math"
   ]
  },
  {
   "cell_type": "markdown",
   "metadata": {},
   "source": [
    "## Datasets\n",
    "In the following sections `datastream` will be the variable storing the current datastream."
   ]
  },
  {
   "cell_type": "code",
   "execution_count": null,
   "metadata": {},
   "outputs": [],
   "source": [
    "# Complex8\n",
    "url = \"http://www2.cs.uh.edu/~ml_kdd/restored/Complex&Diamond/Complex8.data\"\n",
    "complex8 = pd.read_csv(url)\n",
    "data = complex8\n",
    "x = data[\"563.225\"]\n",
    "y = data[\"56.748\"]\n",
    "x = list(x / 675) # Normalizing between [0:1]\n",
    "y = list(y / 401) # Normalizing between [0:1]\n",
    "data = list(zip(x,y))\n",
    "random.seed(1343)\n",
    "np.random.shuffle(data)\n",
    "datastream = list(zip(data, list(range(len(data)))))"
   ]
  },
  {
   "cell_type": "code",
   "execution_count": null,
   "metadata": {},
   "outputs": [],
   "source": [
    "# kddcup 1999\n",
    "url = \"http://kdd.ics.uci.edu/databases/kddcup99/kddcup.data_10_percent.gz\"\n",
    "kddcup = pd.read_csv(url, sep=\",\")\n",
    "kddcup.dropna()\n",
    "kddcupo.drop(columns=[\"tcp\", \"http\"])"
   ]
  },
  {
   "cell_type": "markdown",
   "metadata": {},
   "source": [
    "## Online clustering\n",
    "In this case we are using the sliding window model with the sw discriminators and sw neurons."
   ]
  },
  {
   "cell_type": "code",
   "execution_count": null,
   "metadata": {},
   "outputs": [],
   "source": [
    "%%time\n",
    "# Stream clustering (online clustering only)\n",
    "\n",
    "OMEGA = 3000 # For batch clustering has to be over 2500\n",
    "DELTA = 200\n",
    "GAMMA = 500\n",
    "EPSILON = 0.8\n",
    "µ = 1\n",
    "\n",
    "clusterer = WCDS(\n",
    "    omega=OMEGA,\n",
    "    delta=DELTA,\n",
    "    gamma=GAMMA,\n",
    "    epsilon=EPSILON,\n",
    "    dimension=len(datastream[0][0]),\n",
    "    µ=µ,\n",
    "    seed=123456)\n",
    "\n",
    "predictions = []\n",
    "for i in datastream:\n",
    "    obs, time_ = i\n",
    "    k = clusterer.record(obs, time_)\n",
    "    predictions.append(k)"
   ]
  },
  {
   "cell_type": "code",
   "execution_count": null,
   "metadata": {},
   "outputs": [],
   "source": [
    "%%time\n",
    "from wcds.clusterers import AgglomerativeClustering\n",
    "\n",
    "agg = AgglomerativeClustering()\n",
    "actual_clusters = agg.fit(clusterer.discriminators, n_clusters=8)\n",
    "print(len(actual_clusters))\n",
    "print(actual_clusters)"
   ]
  },
  {
   "cell_type": "code",
   "execution_count": null,
   "metadata": {},
   "outputs": [],
   "source": [
    "clusterer.save(\"wcds.json\")"
   ]
  },
  {
   "cell_type": "markdown",
   "metadata": {},
   "source": [
    "## Plot results"
   ]
  },
  {
   "cell_type": "code",
   "execution_count": null,
   "metadata": {},
   "outputs": [],
   "source": [
    "# Plot results\n",
    "\n",
    "number_of_colors = max(predictions)+1\n",
    "colors = [\"#\"+''.join([random.choice('0123456789ABCDEF') for j in range(6)])\n",
    "             for i in range(number_of_colors)]\n",
    "color_dict = {key: value for (key, value) in zip(list(range(len(colors))), colors)}\n",
    "\n",
    "for i in range(len(predictions)):\n",
    "    k = predictions[i]\n",
    "    plt.scatter(datastream[i][0][0], datastream[i][0][1], marker=\"o\", color=color_dict[int(k)])\n",
    "\n",
    "print(\"Found {} Clusters.\".format(max(predictions)+1))\n",
    "plt.show()"
   ]
  },
  {
   "cell_type": "code",
   "execution_count": null,
   "metadata": {},
   "outputs": [],
   "source": [
    "# Plot results after agglomerative clustering\n",
    "def return_correct(index, clustering):\n",
    "    for i in range(len(clustering)):\n",
    "        if index in clustering[i]:\n",
    "            return i\n",
    "        \n",
    "for i in range(len(predictions)):\n",
    "    k = predictions[i]\n",
    "    C = return_correct(k, actual_clusters)\n",
    "    plt.scatter(datastream[i][0][0], datastream[i][0][1], marker=\"o\", color=color_dict[C])\n",
    "\n",
    "plt.show()"
   ]
  },
  {
   "cell_type": "code",
   "execution_count": null,
   "metadata": {},
   "outputs": [],
   "source": [
    "# Live clustering plot\n",
    "\n",
    "number_of_colors = max(predictions)+1\n",
    "colors = [\"#\"+''.join([random.choice('0123456789ABCDEF') for j in range(6)])\n",
    "             for i in range(number_of_colors)]\n",
    "color_dict = {key: value for (key, value) in zip(list(range(len(colors))), colors)}\n",
    "\n",
    "fig = plt.figure()\n",
    "ax = fig.add_subplot(111)\n",
    "plt.ion()\n",
    "\n",
    "fig.show()\n",
    "fig.canvas.draw()\n",
    "\n",
    "for i in range(len(predictions)):\n",
    "    k = predictions[i]\n",
    "    #ax.clear()\n",
    "    ax.scatter(datastream[i][0][0], datastream[i][0][1], marker=\"o\", color=color_dict[int(k)])\n",
    "    fig.canvas.draw()\n",
    "    time.sleep(.01)\n",
    "\n",
    "#fig.savefig('plotcircles.png')"
   ]
  },
  {
   "cell_type": "code",
   "execution_count": null,
   "metadata": {},
   "outputs": [],
   "source": [
    "# Show Discriminator Bubble\n",
    "def plot_discriminator(c_id, step):\n",
    "    plt.close()\n",
    "    step = 0.01 # Density of scatter plot\n",
    "    c_id = 6 # Cluster\n",
    "    points = []\n",
    "\n",
    "    for i in np.arange(0,1,step):\n",
    "        for j in np.arange(0,1,step):\n",
    "            if clusterer.discriminators[c_id].matching(clusterer.addressing((i,j))) > clusterer.epsilon:\n",
    "                points.append(((i,j), 1))\n",
    "            else:\n",
    "                points.append(((i,j), 0))\n",
    "\n",
    "    for i in range(len(points)):\n",
    "        k = points[i][1]\n",
    "        if k == 0:\n",
    "            c = \"white\"\n",
    "        else:\n",
    "            c = color_dict[c_id]\n",
    "        plt.scatter(points[i][0][0], points[i][0][1], marker=\"s\", s=1, color=c)\n",
    "    plt.show()"
   ]
  },
  {
   "cell_type": "code",
   "execution_count": null,
   "metadata": {},
   "outputs": [],
   "source": [
    "import multiprocessing\n",
    "import time\n",
    "\n",
    "data = (\n",
    "    ['a', '2'], ['b', '4'], ['c', '6'], ['d', '8'],\n",
    "    ['e', '1'], ['f', '3'], ['g', '5'], ['h', '7']\n",
    ")\n",
    "\n",
    "def mp_worker(inputs, the_time):\n",
    "    print(\" Processs %s\\tWaiting %s seconds\" % (inputs, the_time))\n",
    "    time.sleep(int(the_time))\n",
    "    print(\" Process %s\\tDONE\" % inputs)\n",
    "\n",
    "def mp_handler():\n",
    "    p = multiprocessing.Pool(2)\n",
    "    p.map(mp_worker, data)\n",
    "\n",
    "if __name__ == '__main__':\n",
    "    mp_handler()"
   ]
  },
  {
   "cell_type": "code",
   "execution_count": null,
   "metadata": {},
   "outputs": [],
   "source": []
  }
 ],
 "metadata": {
  "kernelspec": {
   "display_name": "Python 3",
   "language": "python",
   "name": "python3"
  }
 },
 "nbformat": 4,
 "nbformat_minor": 2
}
