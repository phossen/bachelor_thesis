{
 "cells": [
  {
   "cell_type": "markdown",
   "metadata": {},
   "source": [
    "# Experiments with WiSARD for streams"
   ]
  },
  {
   "cell_type": "code",
   "execution_count": 7,
   "metadata": {},
   "outputs": [
    {
     "name": "stdout",
     "output_type": "stream",
     "text": [
      "Address:  101\n",
      "Last bit index:  0\n",
      "Bit freq:  [0]\n",
      "Bit freq:  [5]\n",
      "Address:  100\n",
      "Last bit index:  2\n",
      "Bit freq:  [5, 0, 0]\n",
      "Bit freq:  [5, 0, 5]\n",
      "Address:  96\n",
      "Last bit index:  5\n",
      "Bit freq:  [5, 0, 5, 0, 0, 0]\n",
      "Bit freq:  [5, 0, 5, 0, 0, 5]\n",
      "Address:  64\n",
      "Last bit index:  6\n",
      "Bit freq:  [5, 0, 5, 0, 0, 5, 0]\n",
      "Bit freq:  [5, 0, 5, 0, 0, 5, 5]\n",
      "0\n",
      "[5, 0, 5, 0, 0, 5, 5]\n"
     ]
    }
   ],
   "source": [
    "import numpy as np\n",
    "\n",
    "bit_freq = [0]\n",
    "\n",
    "addr=101 \n",
    "freq=5\n",
    "\n",
    "while addr:#\n",
    "    print(\"Address: \", addr)\n",
    "    last_bit_index = (addr & -addr).bit_length() - 1\n",
    "    print(\"Last bit index: \", last_bit_index)\n",
    "    bit_freq.extend([0] * (last_bit_index + 1 - len(bit_freq)))\n",
    "    print(\"Bit freq: \", bit_freq)\n",
    "    bit_freq[last_bit_index] += freq\n",
    "    print(\"Bit freq: \", bit_freq)\n",
    "    addr &= addr - 1  # unset last bit\n",
    "print(addr)\n",
    "print(bit_freq)"
   ]
  },
  {
   "cell_type": "code",
   "execution_count": null,
   "metadata": {},
   "outputs": [],
   "source": [
    "# Imports\n",
    "from wisard.wisard import WiSARD\n",
    "import time\n",
    "from sklearn.datasets import *\n",
    "from keras.datasets import mnist\n",
    "import numpy as np"
   ]
  },
  {
   "cell_type": "code",
   "execution_count": null,
   "metadata": {},
   "outputs": [],
   "source": [
    "# Datastream\n",
    "(X_train, y_train), (X_test, y_test) = mnist.load_data()"
   ]
  },
  {
   "cell_type": "code",
   "execution_count": null,
   "metadata": {},
   "outputs": [],
   "source": [
    "# Stream clustering\n",
    "start_time = time.time()\n",
    "\n",
    "# Beta * delta = dim(x) * gamma\n",
    "OMEGA = 20\n",
    "BETA = 50\n",
    "GAMMA = 100\n",
    "EPSILON = 0.5\n",
    "DELTA = 4\n",
    "µ = 0\n",
    "\n",
    "classifier = WiSARD(\n",
    "    omega=OMEGA,\n",
    "    beta=BETA,\n",
    "    gamma=GAMMA,\n",
    "    epsilon=EPSILON,\n",
    "    delta=DELTA,\n",
    "    µ=µ)\n",
    "classifier.classify(datastream)\n",
    "\n",
    "end_time = time.time()\n",
    "print(\"Time elapsed: {0:.2f}s\".format(end_time - start_time))"
   ]
  }
 ],
 "metadata": {
  "kernelspec": {
   "display_name": "Python 3",
   "language": "python",
   "name": "python3"
  },
  "language_info": {
   "codemirror_mode": {
    "name": "ipython",
    "version": 3
   },
   "file_extension": ".py",
   "mimetype": "text/x-python",
   "name": "python",
   "nbconvert_exporter": "python",
   "pygments_lexer": "ipython3",
   "version": "3.7.3"
  }
 },
 "nbformat": 4,
 "nbformat_minor": 2
}
